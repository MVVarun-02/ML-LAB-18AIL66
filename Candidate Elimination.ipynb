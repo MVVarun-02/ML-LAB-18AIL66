{
 "cells": [
  {
   "cell_type": "code",
   "execution_count": 1,
   "id": "7c5cd47f",
   "metadata": {},
   "outputs": [
    {
     "name": "stdout",
     "output_type": "stream",
     "text": [
      "     Sky AirTemp Humidity    Wind Water Forecast EnjoySport\n",
      "0  Rainy    Cold     High  Strong  Warm   Change         no\n",
      "1  Sunny    Warm   Normal  Strong  Warm     Same        yes\n",
      "2  Sunny    Warm     High  Strong  Warm     Same        yes\n",
      "3  Sunny    Warm     High  Strong  Cool   Change        yes \n",
      "\n"
     ]
    }
   ],
   "source": [
    "import numpy as np\n",
    "import pandas as pd\n",
    "data = pd.read_csv(\"ENJOYSPORT.csv\")\n",
    "print(data,\"\\n\")"
   ]
  },
  {
   "cell_type": "code",
   "execution_count": 2,
   "id": "23db2a18",
   "metadata": {},
   "outputs": [
    {
     "name": "stdout",
     "output_type": "stream",
     "text": [
      "instance 1 is ['Rainy' 'Cold' 'High' 'Strong' 'Warm' 'Change']\n",
      "instance is negative\n",
      "Sp 1 instance - ['Rainy' 'Cold' 'High' 'Strong' 'Warm' 'Change']\n",
      "Gn 1 instance - [['?', '?', '?', '?', '?', '?'], ['?', '?', '?', '?', '?', '?'], ['?', '?', '?', '?', '?', '?'], ['?', '?', '?', '?', '?', '?'], ['?', '?', '?', '?', '?', '?'], ['?', '?', '?', '?', '?', '?']]\n",
      "\n",
      "\n",
      "instance 2 is ['Sunny' 'Warm' 'Normal' 'Strong' 'Warm' 'Same']\n",
      "instance is positive\n",
      "Sp 2 instance - ['?' '?' '?' 'Strong' 'Warm' '?']\n",
      "Gn 2 instance - [['?', '?', '?', '?', '?', '?'], ['?', '?', '?', '?', '?', '?'], ['?', '?', '?', '?', '?', '?'], ['?', '?', '?', '?', '?', '?'], ['?', '?', '?', '?', '?', '?'], ['?', '?', '?', '?', '?', '?']]\n",
      "\n",
      "\n",
      "instance 3 is ['Sunny' 'Warm' 'High' 'Strong' 'Warm' 'Same']\n",
      "instance is positive\n",
      "Sp 3 instance - ['?' '?' '?' 'Strong' 'Warm' '?']\n",
      "Gn 3 instance - [['?', '?', '?', '?', '?', '?'], ['?', '?', '?', '?', '?', '?'], ['?', '?', '?', '?', '?', '?'], ['?', '?', '?', '?', '?', '?'], ['?', '?', '?', '?', '?', '?'], ['?', '?', '?', '?', '?', '?']]\n",
      "\n",
      "\n",
      "instance 4 is ['Sunny' 'Warm' 'High' 'Strong' 'Cool' 'Change']\n",
      "instance is positive\n",
      "Sp 4 instance - ['?' '?' '?' 'Strong' '?' '?']\n",
      "Gn 4 instance - [['?', '?', '?', '?', '?', '?'], ['?', '?', '?', '?', '?', '?'], ['?', '?', '?', '?', '?', '?'], ['?', '?', '?', '?', '?', '?'], ['?', '?', '?', '?', '?', '?'], ['?', '?', '?', '?', '?', '?']]\n",
      "\n",
      "\n",
      "Final Specific_h: \n",
      "['?' '?' '?' 'Strong' '?' '?']\n",
      "Final General_h: \n",
      "[]\n"
     ]
    }
   ],
   "source": [
    "concepts = np.array(data.iloc[:,0:-1])\n",
    "target = np.array(data.iloc[:,-1])\n",
    "def learn(concepts, target):\n",
    "    specific_h = concepts[0].copy()\n",
    "    general_h = [[\"?\" for i in range(len(specific_h))] for i in range (len(specific_h))]\n",
    "    for i,h in enumerate(concepts):\n",
    "        print(\"instance\",i+1,\"is\",h)\n",
    "        if target[i] == \"yes\":\n",
    "            print(\"instance is positive\")\n",
    "            for x in range(len(specific_h)):\n",
    "                if h[x] != specific_h[x]:\n",
    "                    specific_h[x] = '?'\n",
    "                    general_h[x][x] = '?'\n",
    "        if target[i] == \"no\":\n",
    "            print(\"instance is negative\")\n",
    "            for x in range(len(specific_h)):\n",
    "                if h[x] != specific_h[x]:\n",
    "                    specific_h[x] = '?'\n",
    "                    general_h[x][x] = specific_h[x]\n",
    "                else:\n",
    "                    specific_h[x] = '?'\n",
    "                    general_h[x][x] = '?'\n",
    "        print(\"Sp\",i+1,\"instance -\",specific_h)\n",
    "        print(\"Gn\",i+1,\"instance -\",general_h)\n",
    "        print(\"\\n\")\n",
    "    indices = [i for i, val in enumerate(general_h) if val == ['?','?','?','?','?','?']]\n",
    "    for i in indices:\n",
    "        general_h.remove(['?','?','?','?','?','?'])\n",
    "    return specific_h, general_h\n",
    "s_final, g_final = learn(concepts, target)\n",
    "\n",
    "print(\"Final Specific_h: \", s_final, sep=\"\\n\")\n",
    "print(\"Final General_h: \", g_final, sep=\"\\n\")"
   ]
  },
  {
   "cell_type": "code",
   "execution_count": null,
   "id": "7c27a8b1",
   "metadata": {},
   "outputs": [],
   "source": []
  }
 ],
 "metadata": {
  "kernelspec": {
   "display_name": "Python 3 (ipykernel)",
   "language": "python",
   "name": "python3"
  },
  "language_info": {
   "codemirror_mode": {
    "name": "ipython",
    "version": 3
   },
   "file_extension": ".py",
   "mimetype": "text/x-python",
   "name": "python",
   "nbconvert_exporter": "python",
   "pygments_lexer": "ipython3",
   "version": "3.9.12"
  }
 },
 "nbformat": 4,
 "nbformat_minor": 5
}
