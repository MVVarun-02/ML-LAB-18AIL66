{
 "cells": [
  {
   "cell_type": "markdown",
   "id": "443c9b13",
   "metadata": {},
   "source": [
    "# List_Then_Eliminate"
   ]
  },
  {
   "cell_type": "code",
   "execution_count": 1,
   "id": "6ae2a798",
   "metadata": {},
   "outputs": [],
   "source": [
    "import pandas as pd\n",
    "import numpy as np"
   ]
  },
  {
   "cell_type": "code",
   "execution_count": 2,
   "id": "e1345bf9",
   "metadata": {},
   "outputs": [],
   "source": [
    "data = pd.read_csv(\"ENJOYSPORT.csv\")"
   ]
  },
  {
   "cell_type": "code",
   "execution_count": 3,
   "id": "a32134f0",
   "metadata": {},
   "outputs": [
    {
     "data": {
      "text/html": [
       "<div>\n",
       "<style scoped>\n",
       "    .dataframe tbody tr th:only-of-type {\n",
       "        vertical-align: middle;\n",
       "    }\n",
       "\n",
       "    .dataframe tbody tr th {\n",
       "        vertical-align: top;\n",
       "    }\n",
       "\n",
       "    .dataframe thead th {\n",
       "        text-align: right;\n",
       "    }\n",
       "</style>\n",
       "<table border=\"1\" class=\"dataframe\">\n",
       "  <thead>\n",
       "    <tr style=\"text-align: right;\">\n",
       "      <th></th>\n",
       "      <th>Sky</th>\n",
       "      <th>AirTemp</th>\n",
       "      <th>Humidity</th>\n",
       "      <th>Wind</th>\n",
       "      <th>Water</th>\n",
       "      <th>Forecast</th>\n",
       "      <th>EnjoySport</th>\n",
       "    </tr>\n",
       "  </thead>\n",
       "  <tbody>\n",
       "    <tr>\n",
       "      <th>0</th>\n",
       "      <td>Rainy</td>\n",
       "      <td>Cold</td>\n",
       "      <td>High</td>\n",
       "      <td>Strong</td>\n",
       "      <td>Warm</td>\n",
       "      <td>Change</td>\n",
       "      <td>no</td>\n",
       "    </tr>\n",
       "    <tr>\n",
       "      <th>1</th>\n",
       "      <td>Sunny</td>\n",
       "      <td>Warm</td>\n",
       "      <td>Normal</td>\n",
       "      <td>Strong</td>\n",
       "      <td>Warm</td>\n",
       "      <td>Same</td>\n",
       "      <td>yes</td>\n",
       "    </tr>\n",
       "    <tr>\n",
       "      <th>2</th>\n",
       "      <td>Sunny</td>\n",
       "      <td>Warm</td>\n",
       "      <td>High</td>\n",
       "      <td>Strong</td>\n",
       "      <td>Warm</td>\n",
       "      <td>Same</td>\n",
       "      <td>yes</td>\n",
       "    </tr>\n",
       "    <tr>\n",
       "      <th>3</th>\n",
       "      <td>Sunny</td>\n",
       "      <td>Warm</td>\n",
       "      <td>High</td>\n",
       "      <td>Strong</td>\n",
       "      <td>Cool</td>\n",
       "      <td>Change</td>\n",
       "      <td>yes</td>\n",
       "    </tr>\n",
       "  </tbody>\n",
       "</table>\n",
       "</div>"
      ],
      "text/plain": [
       "     Sky AirTemp Humidity    Wind Water Forecast EnjoySport\n",
       "0  Rainy    Cold     High  Strong  Warm   Change         no\n",
       "1  Sunny    Warm   Normal  Strong  Warm     Same        yes\n",
       "2  Sunny    Warm     High  Strong  Warm     Same        yes\n",
       "3  Sunny    Warm     High  Strong  Cool   Change        yes"
      ]
     },
     "execution_count": 3,
     "metadata": {},
     "output_type": "execute_result"
    }
   ],
   "source": [
    "data"
   ]
  },
  {
   "cell_type": "code",
   "execution_count": 4,
   "id": "70a31f97",
   "metadata": {},
   "outputs": [],
   "source": [
    "# X represents a set of instances over which concept of learning is defined\n",
    "\n",
    "X = data\n",
    "# Stores target in a seperate series\n",
    "target=X.iloc[:, -1]    #target = X[\"EnjoySport\"]"
   ]
  },
  {
   "cell_type": "code",
   "execution_count": 5,
   "id": "84d5d13a",
   "metadata": {},
   "outputs": [
    {
     "data": {
      "text/plain": [
       "0     no\n",
       "1    yes\n",
       "2    yes\n",
       "3    yes\n",
       "Name: EnjoySport, dtype: object"
      ]
     },
     "execution_count": 5,
     "metadata": {},
     "output_type": "execute_result"
    }
   ],
   "source": [
    "target"
   ]
  },
  {
   "cell_type": "code",
   "execution_count": 6,
   "id": "c509b717",
   "metadata": {},
   "outputs": [],
   "source": [
    "# Removes target from the other attributes\n",
    "\n",
    "X = X.iloc[:,:-1]"
   ]
  },
  {
   "cell_type": "code",
   "execution_count": 7,
   "id": "01b346bd",
   "metadata": {},
   "outputs": [
    {
     "data": {
      "text/html": [
       "<div>\n",
       "<style scoped>\n",
       "    .dataframe tbody tr th:only-of-type {\n",
       "        vertical-align: middle;\n",
       "    }\n",
       "\n",
       "    .dataframe tbody tr th {\n",
       "        vertical-align: top;\n",
       "    }\n",
       "\n",
       "    .dataframe thead th {\n",
       "        text-align: right;\n",
       "    }\n",
       "</style>\n",
       "<table border=\"1\" class=\"dataframe\">\n",
       "  <thead>\n",
       "    <tr style=\"text-align: right;\">\n",
       "      <th></th>\n",
       "      <th>Sky</th>\n",
       "      <th>AirTemp</th>\n",
       "      <th>Humidity</th>\n",
       "      <th>Wind</th>\n",
       "      <th>Water</th>\n",
       "      <th>Forecast</th>\n",
       "    </tr>\n",
       "  </thead>\n",
       "  <tbody>\n",
       "    <tr>\n",
       "      <th>0</th>\n",
       "      <td>Rainy</td>\n",
       "      <td>Cold</td>\n",
       "      <td>High</td>\n",
       "      <td>Strong</td>\n",
       "      <td>Warm</td>\n",
       "      <td>Change</td>\n",
       "    </tr>\n",
       "    <tr>\n",
       "      <th>1</th>\n",
       "      <td>Sunny</td>\n",
       "      <td>Warm</td>\n",
       "      <td>Normal</td>\n",
       "      <td>Strong</td>\n",
       "      <td>Warm</td>\n",
       "      <td>Same</td>\n",
       "    </tr>\n",
       "    <tr>\n",
       "      <th>2</th>\n",
       "      <td>Sunny</td>\n",
       "      <td>Warm</td>\n",
       "      <td>High</td>\n",
       "      <td>Strong</td>\n",
       "      <td>Warm</td>\n",
       "      <td>Same</td>\n",
       "    </tr>\n",
       "    <tr>\n",
       "      <th>3</th>\n",
       "      <td>Sunny</td>\n",
       "      <td>Warm</td>\n",
       "      <td>High</td>\n",
       "      <td>Strong</td>\n",
       "      <td>Cool</td>\n",
       "      <td>Change</td>\n",
       "    </tr>\n",
       "  </tbody>\n",
       "</table>\n",
       "</div>"
      ],
      "text/plain": [
       "     Sky AirTemp Humidity    Wind Water Forecast\n",
       "0  Rainy    Cold     High  Strong  Warm   Change\n",
       "1  Sunny    Warm   Normal  Strong  Warm     Same\n",
       "2  Sunny    Warm     High  Strong  Warm     Same\n",
       "3  Sunny    Warm     High  Strong  Cool   Change"
      ]
     },
     "execution_count": 7,
     "metadata": {},
     "output_type": "execute_result"
    }
   ],
   "source": [
    "X"
   ]
  },
  {
   "cell_type": "code",
   "execution_count": 8,
   "id": "318d1ab7",
   "metadata": {},
   "outputs": [
    {
     "data": {
      "text/plain": [
       "0     no\n",
       "1    yes\n",
       "2    yes\n",
       "3    yes\n",
       "Name: EnjoySport, dtype: object"
      ]
     },
     "execution_count": 8,
     "metadata": {},
     "output_type": "execute_result"
    }
   ],
   "source": [
    "target"
   ]
  },
  {
   "cell_type": "code",
   "execution_count": 9,
   "id": "0b23340a",
   "metadata": {},
   "outputs": [],
   "source": [
    "unique_attributes = [list(li) for li in list(X.apply(pd.Series.unique))]"
   ]
  },
  {
   "cell_type": "code",
   "execution_count": 10,
   "id": "90cf3935",
   "metadata": {},
   "outputs": [
    {
     "data": {
      "text/plain": [
       "[['Rainy', 'Sunny'],\n",
       " ['Cold', 'Warm'],\n",
       " ['High', 'Normal'],\n",
       " ['Strong'],\n",
       " ['Warm', 'Cool'],\n",
       " ['Change', 'Same']]"
      ]
     },
     "execution_count": 10,
     "metadata": {},
     "output_type": "execute_result"
    }
   ],
   "source": [
    "unique_attributes"
   ]
  },
  {
   "cell_type": "code",
   "execution_count": 11,
   "id": "cdcebd3e",
   "metadata": {},
   "outputs": [
    {
     "name": "stdout",
     "output_type": "stream",
     "text": [
      "['Change', 'Same', '?', 'Φ']\n"
     ]
    }
   ],
   "source": [
    "import itertools\n",
    "for li in unique_attributes:\n",
    "    li.append('?')\n",
    "    li.append('Φ')\n",
    "print(li)\n",
    "H = list(itertools.product(*unique_attributes))"
   ]
  },
  {
   "cell_type": "code",
   "execution_count": 12,
   "id": "954fd7db",
   "metadata": {},
   "outputs": [
    {
     "data": {
      "text/plain": [
       "3072"
      ]
     },
     "execution_count": 12,
     "metadata": {},
     "output_type": "execute_result"
    }
   ],
   "source": [
    "len(H)"
   ]
  },
  {
   "cell_type": "code",
   "execution_count": 13,
   "id": "ffa3a29c",
   "metadata": {},
   "outputs": [
    {
     "data": {
      "text/plain": [
       "[['Rainy', 'Sunny', '?', 'Φ'],\n",
       " ['Cold', 'Warm', '?', 'Φ'],\n",
       " ['High', 'Normal', '?', 'Φ'],\n",
       " ['Strong', '?', 'Φ'],\n",
       " ['Warm', 'Cool', '?', 'Φ'],\n",
       " ['Change', 'Same', '?', 'Φ']]"
      ]
     },
     "execution_count": 13,
     "metadata": {},
     "output_type": "execute_result"
    }
   ],
   "source": [
    "unique_attributes"
   ]
  },
  {
   "cell_type": "code",
   "execution_count": 14,
   "id": "9c152a4a",
   "metadata": {},
   "outputs": [],
   "source": [
    "def predict(h, x):\n",
    "    for i, attr in enumerate(x):\n",
    "        if h[i] == 'Φ':\n",
    "            return False\n",
    "        if h[i] == '?':\n",
    "            continue\n",
    "        if h[i] != x[i]:\n",
    "            return False\n",
    "    return True"
   ]
  },
  {
   "cell_type": "code",
   "execution_count": 15,
   "id": "edd9c57f",
   "metadata": {},
   "outputs": [],
   "source": [
    "def is_consistent(h, D):\n",
    "    for idx, x in D[0].iterrows():\n",
    "        prediction = predict(h, x)\n",
    "        if prediction == True and D[1][idx] == \"no\":\n",
    "            return False\n",
    "        if prediction == False and D[1][idx] == \"yes\":\n",
    "            return False\n",
    "    return True\n",
    "        \n",
    "           "
   ]
  },
  {
   "cell_type": "code",
   "execution_count": 16,
   "id": "53e1352e",
   "metadata": {},
   "outputs": [],
   "source": [
    "# Vector Space containg hypotheses each consistent of all the training examples\n",
    "VectorSpace = []\n",
    "for h in H:\n",
    "    if is_consistent(h, (X, target)) == True:\n",
    "        VectorSpace.append(h)\n",
    "            "
   ]
  },
  {
   "cell_type": "code",
   "execution_count": 17,
   "id": "6a400460",
   "metadata": {},
   "outputs": [
    {
     "data": {
      "text/plain": [
       "[('Sunny', 'Warm', '?', 'Strong', '?', '?'),\n",
       " ('Sunny', 'Warm', '?', '?', '?', '?'),\n",
       " ('Sunny', '?', '?', 'Strong', '?', '?'),\n",
       " ('Sunny', '?', '?', '?', '?', '?'),\n",
       " ('?', 'Warm', '?', 'Strong', '?', '?'),\n",
       " ('?', 'Warm', '?', '?', '?', '?')]"
      ]
     },
     "execution_count": 17,
     "metadata": {},
     "output_type": "execute_result"
    }
   ],
   "source": [
    "VectorSpace"
   ]
  },
  {
   "cell_type": "markdown",
   "id": "6edd6489",
   "metadata": {},
   "source": [
    "# Find-S"
   ]
  },
  {
   "cell_type": "code",
   "execution_count": 18,
   "id": "0a223451",
   "metadata": {},
   "outputs": [
    {
     "name": "stdout",
     "output_type": "stream",
     "text": [
      "     Sky AirTemp Humidity    Wind Water Forecast EnjoySport\n",
      "0  Rainy    Cold     High  Strong  Warm   Change         no\n",
      "1  Sunny    Warm   Normal  Strong  Warm     Same        yes\n",
      "2  Sunny    Warm     High  Strong  Warm     Same        yes\n",
      "3  Sunny    Warm     High  Strong  Cool   Change        yes \n",
      "\n"
     ]
    }
   ],
   "source": [
    "#to read the data in the csv file\n",
    "data = pd.read_csv(\"ENJOYSPORT.csv\")\n",
    "print(data,\"\\n\")"
   ]
  },
  {
   "cell_type": "code",
   "execution_count": 19,
   "id": "de768353",
   "metadata": {},
   "outputs": [
    {
     "name": "stdout",
     "output_type": "stream",
     "text": [
      " The attributes are:  [['Rainy' 'Cold' 'High' 'Strong' 'Warm' 'Change']\n",
      " ['Sunny' 'Warm' 'Normal' 'Strong' 'Warm' 'Same']\n",
      " ['Sunny' 'Warm' 'High' 'Strong' 'Warm' 'Same']\n",
      " ['Sunny' 'Warm' 'High' 'Strong' 'Cool' 'Change']]\n"
     ]
    }
   ],
   "source": [
    "#making array d of all the attributes\n",
    "d = np.array(data)[:,:-1]\n",
    "print(\" The attributes are: \",d)"
   ]
  },
  {
   "cell_type": "code",
   "execution_count": 20,
   "id": "b1a737b2",
   "metadata": {},
   "outputs": [
    {
     "name": "stdout",
     "output_type": "stream",
     "text": [
      " The target is:  ['no' 'yes' 'yes' 'yes']\n"
     ]
    }
   ],
   "source": [
    "#segregating the positive and negative examples\n",
    "target = np.array(data)[:,-1]\n",
    "print(\" The target is: \",target)"
   ]
  },
  {
   "cell_type": "code",
   "execution_count": 21,
   "id": "9f01514e",
   "metadata": {},
   "outputs": [],
   "source": [
    "#training function to implement find-s algorithm\n",
    "def finds_train(c,t):\n",
    "    for i, val in enumerate(t):\n",
    "        if val == \"yes\":\n",
    "            specific_hypothesis = c[i].copy()\n",
    "            break\n",
    "             \n",
    "    for i, val in enumerate(c):\n",
    "        if t[i] == \"yes\":\n",
    "            for x in range(len(specific_hypothesis)):\n",
    "                if val[x] != specific_hypothesis[x]:\n",
    "                    specific_hypothesis[x] = '?'\n",
    "                else:\n",
    "                    pass\n",
    "            \n",
    "                 \n",
    "    return specific_hypothesis"
   ]
  },
  {
   "cell_type": "code",
   "execution_count": 22,
   "id": "99be7a15",
   "metadata": {},
   "outputs": [
    {
     "name": "stdout",
     "output_type": "stream",
     "text": [
      "\n",
      " The final hypothesis is: ['Sunny' 'Warm' '?' 'Strong' '?' '?']\n"
     ]
    }
   ],
   "source": [
    "#obtaining the final hypothesis\n",
    "print(\"\\n The final hypothesis is:\",finds_train(d,target))"
   ]
  },
  {
   "cell_type": "code",
   "execution_count": null,
   "id": "6d2804b9",
   "metadata": {},
   "outputs": [],
   "source": []
  }
 ],
 "metadata": {
  "kernelspec": {
   "display_name": "Python 3 (ipykernel)",
   "language": "python",
   "name": "python3"
  },
  "language_info": {
   "codemirror_mode": {
    "name": "ipython",
    "version": 3
   },
   "file_extension": ".py",
   "mimetype": "text/x-python",
   "name": "python",
   "nbconvert_exporter": "python",
   "pygments_lexer": "ipython3",
   "version": "3.9.12"
  }
 },
 "nbformat": 4,
 "nbformat_minor": 5
}
